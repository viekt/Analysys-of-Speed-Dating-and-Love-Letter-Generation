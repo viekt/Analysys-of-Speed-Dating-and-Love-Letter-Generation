{
 "cells": [
  {
   "cell_type": "markdown",
   "id": "4795b8bb",
   "metadata": {},
   "source": [
    "Здесь мы дообучим нашу модель, в модели очень много параметров, поэтому она очень долго обучается :(\n",
    "К сожалению, это одна из возможных причин, почему генератор получится не очень удачным, так как я обучала всего 2 эпохи...\n",
    "Так же одной из причин станет то, что всн таки наши данные не идеальны и сложно сделать связный текст, изучая цитаты."
   ]
  },
  {
   "cell_type": "code",
   "execution_count": 3,
   "id": "49f87781",
   "metadata": {},
   "outputs": [],
   "source": [
    "import pandas as pd \n",
    "\n",
    "filtered_inf = pd.read_csv('C:/Users/Hp/Downloads/filtered_inf.csv')\n",
    "quotes = filtered_inf['quote'].tolist()"
   ]
  },
  {
   "cell_type": "code",
   "execution_count": null,
   "id": "9486258b",
   "metadata": {},
   "outputs": [],
   "source": [
    "#!pip uninstall -y transformers accelerate\n",
    "#!pip install transformers accelerate\n",
    "#Если что-то не работает, то можно попробовать запустить эту ячейку."
   ]
  },
  {
   "cell_type": "markdown",
   "id": "9bb5d9e3",
   "metadata": {},
   "source": [
    "Для обучения модели сначала преобразуем данные в текстовый файл, а потом токенезируем данные."
   ]
  },
  {
   "cell_type": "code",
   "execution_count": null,
   "id": "e513e72e",
   "metadata": {},
   "outputs": [],
   "source": [
    "from transformers import TextDataset, DataCollatorForLanguageModeling\n",
    " \n",
    "train_path = 'train_dataset.txt'\n",
    "with open(train_path, \"w\", encoding=\"utf-8\") as f:\n",
    "    for quote in quotes[2648:]:\n",
    "        f.write(quote + \"\\n\")\n",
    "    for quote in quotes:\n",
    "        f.write(quote + \"\\n\")\n",
    "\n",
    "train_dataset = TextDataset(tokenizer=tokenizer,file_path=train_path,block_size=128)\n",
    "  \n",
    "data_collator = DataCollatorForLanguageModeling(tokenizer=tokenizer, mlm=False)"
   ]
  },
  {
   "cell_type": "code",
   "execution_count": null,
   "id": "d7faad77",
   "metadata": {},
   "outputs": [],
   "source": [
    "from transformers import Trainer, TrainingArguments\n",
    "\n",
    "training_args = TrainingArguments(\n",
    "    output_dir=\"./finetuned\",\n",
    "    overwrite_output_dir=True, \n",
    "    num_train_epochs=2, \n",
    "    per_device_train_batch_size=16, \n",
    "    per_device_eval_batch_size=32,  \n",
    "    warmup_steps=10,\n",
    "    gradient_accumulation_steps=16, \n",
    "    )\n",
    "\n",
    "\n",
    "trainer = Trainer(\n",
    "    model=model,\n",
    "    args=training_args,\n",
    "    data_collator=data_collator,\n",
    "    train_dataset=train_dataset,\n",
    "    optimizers = (torch.optim.AdamW(model.parameters(),lr=1e-3),None) \n",
    ")"
   ]
  },
  {
   "cell_type": "code",
   "execution_count": null,
   "id": "83537542",
   "metadata": {},
   "outputs": [],
   "source": [
    "trainer.train()"
   ]
  },
  {
   "cell_type": "code",
   "execution_count": null,
   "id": "ac0b1086",
   "metadata": {},
   "outputs": [],
   "source": [
    "trainer.save_model(\"model2/\") #Сохраним модель в папку model2"
   ]
  },
  {
   "cell_type": "markdown",
   "id": "b3fbc32e",
   "metadata": {},
   "source": [
    "Теперь перейдем в файл analysis."
   ]
  }
 ],
 "metadata": {
  "kernelspec": {
   "display_name": "Python 3 (ipykernel)",
   "language": "python",
   "name": "python3"
  },
  "language_info": {
   "codemirror_mode": {
    "name": "ipython",
    "version": 3
   },
   "file_extension": ".py",
   "mimetype": "text/x-python",
   "name": "python",
   "nbconvert_exporter": "python",
   "pygments_lexer": "ipython3",
   "version": "3.9.12"
  }
 },
 "nbformat": 4,
 "nbformat_minor": 5
}
