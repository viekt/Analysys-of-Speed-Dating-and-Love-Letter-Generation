{
 "cells": [
  {
   "cell_type": "code",
   "execution_count": 1,
   "id": "ff595ea3",
   "metadata": {},
   "outputs": [],
   "source": [
    "from collections import Counter\n",
    "\n",
    "import torch\n",
    "import torch.nn as nn\n",
    "import torch.nn.functional as F\n",
    "import numpy as np"
   ]
  },
  {
   "cell_type": "code",
   "execution_count": null,
   "id": "49705ffd",
   "metadata": {},
   "outputs": [
    {
     "name": "stdout",
     "output_type": "stream",
     "text": [
      "Epoch 1/4\n",
      " 114/2656 [>.............................] - ETA: 6:26:14 - loss: 6.9649"
     ]
    }
   ],
   "source": [
    "import numpy as np\n",
    "from tensorflow.keras.models import Sequential\n",
    "from tensorflow.keras.layers import LSTM, Dense, Embedding\n",
    "from tensorflow.keras.preprocessing.text import Tokenizer\n",
    "from tensorflow.keras.preprocessing.sequence import pad_sequences\n",
    "import pandas as pd\n",
    "\n",
    "filtered_quotes_and_authors = pd.read_csv('C:/Users/Hp/Downloads/filtered_quotes_and_authors.csv')\n",
    "\n",
    "device = torch.device('cuda') if torch.cuda.is_available() else torch.device('cpu')\n",
    "# Предобработка текста\n",
    "quotes = filtered_quotes_and_authors['quote'].tolist()\n",
    "tokenizer = Tokenizer()\n",
    "tokenizer.fit_on_texts(quotes)\n",
    "sequences = tokenizer.texts_to_sequences(quotes)\n",
    "vocab_size = len(tokenizer.word_index) + 1\n",
    "max_sequence_len = max([len(seq) for seq in sequences])\n",
    "\n",
    "# Создание обучающих последовательностей\n",
    "input_sequences = []\n",
    "output_sequences = []\n",
    "for seq in sequences:\n",
    "    for i in range(1, len(seq)):\n",
    "        input_sequences.append(seq[:i])\n",
    "        output_sequences.append(seq[i])\n",
    "\n",
    "# Подготовка входных и выходных данных\n",
    "X = pad_sequences(input_sequences, maxlen=max_sequence_len)\n",
    "y = np.array(output_sequences)\n",
    "y = np.expand_dims(y, axis=-1)\n",
    "\n",
    "# Создание модели LSTM\n",
    "model = Sequential()\n",
    "model.add(Embedding(vocab_size, 100, input_length=max_sequence_len))\n",
    "model.add(LSTM(150))\n",
    "model.add(Dense(vocab_size, activation='softmax'))\n",
    "model.compile(loss='sparse_categorical_crossentropy', optimizer='adam')\n",
    "\n",
    "\n",
    "# Обучение модели\n",
    "model.fit(X, y, epochs=4, verbose=1)\n",
    "\n",
    "# Генерация текста\n",
    "seed_text = \"Darling <NAME>,\"\n",
    "next_words = 20\n",
    "\n",
    "for _ in range(next_words):\n",
    "    token_list = tokenizer.texts_to_sequences([seed_text])[0]\n",
    "    token_list = pad_sequences([token_list], maxlen=max_sequence_len-1)\n",
    "    predicted = model.predict_classes(token_list, verbose=0)\n",
    "    \n",
    "    output_word = \"\"\n",
    "    for word, index in tokenizer.word_index.items():\n",
    "        if index == predicted:\n",
    "            output_word = word\n",
    "            break\n",
    "    seed_text += \" \" + output_word\n",
    "\n",
    "print(seed_text)\n"
   ]
  }
 ],
 "metadata": {
  "kernelspec": {
   "display_name": "Python 3 (ipykernel)",
   "language": "python",
   "name": "python3"
  },
  "language_info": {
   "codemirror_mode": {
    "name": "ipython",
    "version": 3
   },
   "file_extension": ".py",
   "mimetype": "text/x-python",
   "name": "python",
   "nbconvert_exporter": "python",
   "pygments_lexer": "ipython3",
   "version": "3.9.12"
  }
 },
 "nbformat": 4,
 "nbformat_minor": 5
}
